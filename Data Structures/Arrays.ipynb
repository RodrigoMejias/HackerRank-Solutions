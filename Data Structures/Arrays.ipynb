{
 "cells": [
  {
   "cell_type": "code",
   "execution_count": 1,
   "metadata": {},
   "outputs": [],
   "source": [
    "# HackerRank Data Sctructures practice - Arrays"
   ]
  },
  {
   "cell_type": "code",
   "execution_count": 35,
   "metadata": {},
   "outputs": [
    {
     "name": "stdout",
     "output_type": "stream",
     "text": [
      "4\n",
      "4 3 2 1\n",
      "1 2 3 4\n"
     ]
    }
   ],
   "source": [
    "# Arrays - DS: Reverse list order\n",
    "#Input: 2 lines, first contains an integer N (number of integers in arr A)\n",
    "#Second line contains N space-integers describing array A\n",
    "#Output: Print all N integers in A in reverse order separated by a space\n",
    "\"\"\"\"\n",
    "Original Solution:\n",
    "a = int(input())\n",
    "lst = list(map(int, input().split()))\n",
    "reverse = [0] * a\n",
    "for i in range(len(lst)):\n",
    "    index = a - i - 1\n",
    "    reverse[index] = lst[i]\n",
    "print(*reverse, sep = ' ')\n",
    "\"\"\"\n",
    "\n",
    "#Optimal:\n",
    "N = int(input().strip())\n",
    "A = input().split(' ')\n",
    "print(\" \".join(A[::-1]))"
   ]
  },
  {
   "cell_type": "code",
   "execution_count": 24,
   "metadata": {},
   "outputs": [
    {
     "name": "stdout",
     "output_type": "stream",
     "text": [
      "1 1 1 0 0 0\n",
      "0 1 0 0 0 0\n",
      "1 1 1 0 0 0\n",
      "0 0 2 4 4 0\n",
      "0 0 0 2 0 0\n",
      "0 0 1 2 4 0 \n",
      "10\n"
     ]
    }
   ],
   "source": [
    "# 2D Array - DS: Find the max hourglass value given a 6x6 array\n",
    "# Input: 6 lines of inputs, arr[i] contains 6 space-separated integers arr[i][j]\n",
    "# The hourglass value is the sum of the three inputs in the row above and below a given entry, in addition to the given entry.\n",
    "# Output: Single integer of the maximum hourglass value given the array\n",
    "N = [0] * 6\n",
    "N[0] = list(map(int, input().split()))\n",
    "N[1] = list(map(int, input().split()))\n",
    "N[2] = list(map(int, input().split()))\n",
    "N[3] = list(map(int, input().split()))\n",
    "N[4] = list(map(int, input().split()))\n",
    "N[5] = list(map(int, input().split()))\n",
    "\n",
    "max_sum = -100\n",
    "for row in range(1,5):\n",
    "        for i in range(1,5):\n",
    "                local_sum = N[row-1][i-1] + N[row-1][i] + N[row-1][i+1] + N[row][i] + N[row+1][i-1] + N[row+1][i] + N[row+1][i+1]\n",
    "                if local_sum > max_sum:\n",
    "                    max_sum = local_sum\n",
    "print(max_sum)"
   ]
  },
  {
   "cell_type": "code",
   "execution_count": 22,
   "metadata": {},
   "outputs": [
    {
     "name": "stdout",
     "output_type": "stream",
     "text": [
      "1 2 3 4\n",
      "1 2\n",
      "[[1, 2, 3, 4], [1, 2], 0, 0, 0, 0]\n"
     ]
    }
   ],
   "source": [
    "# Dynamic Array - Create a list, seqList, of N empty sequences where each sequence is indexed from 0 to N - 1\n",
    "# Create an integer + initialize it to 0. There are two types of queries that can be performed on the list of sequences.\n",
    "# Query 1(1 x y):Find the seq at index ((x xor lastAnswer) % N) in list and append integer y to seq \n",
    "# Query 2(2 x y): Find the seq at index, find value of elemnt y%size in seq where size is the size of seq and print lastAnswer on a new line\n",
    "#Input: First line contains N(the # of sequences) and Q(the # of queries)\n",
    "# Each of the subsequent Q lines contains a quiery in the format defined above.\n",
    "# Output: For each type 2 query, print the updated value of lastAnswer on a new line\n",
    "lastAnswer = 0\n",
    "N, Q = map(int, input().split())\n",
    "seqList = [[] for _ in range(N)]\n",
    "\n",
    "for row in range(Q):\n",
    "    q, x, y = map(int, input().split())\n",
    "    index = (x ^ lastAnswer) % N\n",
    "    seq = seqList[index]\n",
    "    if q == 1:\n",
    "        seq.append(y)\n",
    "    else:\n",
    "        size = len(seq)\n",
    "        lastAnswer = seq[y % size]\n",
    "        print(lastAnswer)\n",
    "        \n"
   ]
  },
  {
   "cell_type": "code",
   "execution_count": 29,
   "metadata": {},
   "outputs": [
    {
     "name": "stdout",
     "output_type": "stream",
     "text": [
      "5 4\n",
      "1 2 3 4 5\n",
      "5 1 2 3 4\n"
     ]
    }
   ],
   "source": [
    "# Left Rotation - With an array of size n, shift d rotations to the left (all entries move d indexes down)\n",
    "# Input: First line contains n (number of integers) and d(number of rotations)\n",
    "# Output: Array with d rotations applied to it\n",
    "N, D = map(int, input().split())\n",
    "a = list(input().split())\n",
    "arr = a[D % N : N] + a[0 : D % N]\n",
    "print(*arr, sep=\" \")"
   ]
  },
  {
   "cell_type": "code",
   "execution_count": 51,
   "metadata": {},
   "outputs": [
    {
     "name": "stdout",
     "output_type": "stream",
     "text": [
      "3\n",
      "abc\n",
      "def\n",
      "ghi\n",
      "2\n",
      "abc\n",
      "1\n",
      "def\n",
      "1\n"
     ]
    }
   ],
   "source": [
    "# Sparse Arrays - N strings with a collection of Q query strings. Return how many times the Q strings came up in the set of N strings\n",
    "# Input: First line contains integer n, the size of the strings\n",
    "# Followed by n lines contain strings[i]\n",
    "# Next, contains q, the size of queries\n",
    "# Each of the next q lines contains a string q[i]\n",
    "N = int(input())\n",
    "strings = [] * N\n",
    "\n",
    "def match(string_set, queries):\n",
    "    counter = 0\n",
    "    for word in string_set: \n",
    "        if word == queries:\n",
    "            counter += 1\n",
    "    return counter\n",
    "    \n",
    "for i in range(N):\n",
    "    string = input()\n",
    "    strings.append(string)\n",
    "\n",
    "Q = int(input())\n",
    "for j in range(Q):\n",
    "    query = input()\n",
    "    counter = match(strings, query)\n",
    "    print(counter)"
   ]
  },
  {
   "cell_type": "code",
   "execution_count": 52,
   "metadata": {},
   "outputs": [],
   "source": [
    "# Array Manipulation"
   ]
  },
  {
   "cell_type": "code",
   "execution_count": null,
   "metadata": {},
   "outputs": [],
   "source": []
  }
 ],
 "metadata": {
  "kernelspec": {
   "display_name": "Python 3",
   "language": "python",
   "name": "python3"
  },
  "language_info": {
   "codemirror_mode": {
    "name": "ipython",
    "version": 3
   },
   "file_extension": ".py",
   "mimetype": "text/x-python",
   "name": "python",
   "nbconvert_exporter": "python",
   "pygments_lexer": "ipython3",
   "version": "3.6.5"
  }
 },
 "nbformat": 4,
 "nbformat_minor": 2
}
