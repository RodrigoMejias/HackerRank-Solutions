{
 "cells": [
  {
   "cell_type": "code",
   "execution_count": 49,
   "metadata": {},
   "outputs": [],
   "source": [
    "# Rodrigo Mejias - HackerRank\n",
    "# Practice > Algorithms > Warm Up"
   ]
  },
  {
   "cell_type": "code",
   "execution_count": 48,
   "metadata": {},
   "outputs": [
    {
     "name": "stdout",
     "output_type": "stream",
     "text": [
      "2\n",
      "3\n",
      "5\n"
     ]
    }
   ],
   "source": [
    "# Solve me first - make a function that sums two integers\n",
    "def solveMeFirst(a,b):\n",
    "    return a+b\n",
    "num1 = int(input())\n",
    "num2 = int(input())\n",
    "res = solveMeFirst(num1,num2)\n",
    "print(res)"
   ]
  },
  {
   "cell_type": "code",
   "execution_count": 118,
   "metadata": {},
   "outputs": [
    {
     "name": "stdout",
     "output_type": "stream",
     "text": [
      "4\n",
      "3 2 5 3\n",
      "13\n"
     ]
    }
   ],
   "source": [
    "# Simple Array Sum - Given an array of integers, find the sum\n",
    "input()\n",
    "a = input().split(' ')\n",
    "a = list(map(int, a))\n",
    "sum = i = 0\n",
    "while i < len(a):\n",
    "    sum = sum + a[i]\n",
    "    i += 1\n",
    "print(sum)"
   ]
  },
  {
   "cell_type": "code",
   "execution_count": 42,
   "metadata": {},
   "outputs": [
    {
     "name": "stdout",
     "output_type": "stream",
     "text": [
      "5 6 7\n",
      "3 6 10\n",
      "1 1\n"
     ]
    }
   ],
   "source": [
    "# Compare the Triplets - Compare two scorecards of three scores each\n",
    "# 1 point for having the higher score, return the score of the two individuals\n",
    "a0,a1,a2 = input().strip().split(' ')\n",
    "a = [int(a0),int(a1),int(a2)]\n",
    "b0,b1,b2 = input().strip().split(' ')\n",
    "b = [int(b0),int(b1),int(b2)]\n",
    "\n",
    "a_score = b_score = i = 0\n",
    "\n",
    "while i < len(a):\n",
    "    if a[i] > b[i]: a_score += 1\n",
    "    elif a[i] < b[i]: b_score +=1\n",
    "    i += 1\n",
    "\n",
    "print(a_score, b_score)"
   ]
  },
  {
   "cell_type": "code",
   "execution_count": 47,
   "metadata": {},
   "outputs": [
    {
     "name": "stdout",
     "output_type": "stream",
     "text": [
      "1\n",
      "2 3 4\n",
      "9\n"
     ]
    }
   ],
   "source": [
    "#A very big sum - Two lines are inputted, return the sum of the second line\n",
    "input()\n",
    "print(sum(map(int, input().split())))"
   ]
  },
  {
   "cell_type": "code",
   "execution_count": 119,
   "metadata": {},
   "outputs": [
    {
     "name": "stdout",
     "output_type": "stream",
     "text": [
      "3\n",
      "11 12 3\n",
      "1 4 5\n",
      "1 6 7\n",
      "14\n"
     ]
    }
   ],
   "source": [
    "# Diagonal Difference - given a square matrix, calculate the absolute dif between sum of diagonals\n",
    "# First input is row/columns in the square, next is the square\n",
    "N = int(input())\n",
    "difference = 0\n",
    "\n",
    "for i in range(N):\n",
    "    row = input().split()\n",
    "    difference += (int(row[i]) - int(row[N-1-i]))\n",
    "print(abs(difference))"
   ]
  },
  {
   "cell_type": "code",
   "execution_count": 12,
   "metadata": {},
   "outputs": [
    {
     "name": "stdout",
     "output_type": "stream",
     "text": [
      "1\n",
      "3 0 -5 3\n",
      "0.5\n",
      "0.25\n",
      "0.25\n"
     ]
    }
   ],
   "source": [
    "# Plus Minus - Given an array(two lines) of integers, return the fraction of its elements that are +, -, and 0's\n",
    "a = input()\n",
    "b = list(map(int, input().split()))\n",
    "n = pos = neg = zeros = 0.0\n",
    "\n",
    "for i in range(len(b)):\n",
    "    n += 1\n",
    "    if b[i] < 0: neg += 1.0\n",
    "    elif b[i] > 0: pos += 1.0\n",
    "    else: zeros += 1.0\n",
    "\n",
    "pos = pos / n\n",
    "neg = neg / n\n",
    "zeros = zeros / n\n",
    "\n",
    "print(pos)\n",
    "print(neg)\n",
    "print(zeros)"
   ]
  },
  {
   "cell_type": "code",
   "execution_count": 27,
   "metadata": {},
   "outputs": [
    {
     "name": "stdout",
     "output_type": "stream",
     "text": [
      "3\n",
      "  #\n",
      " ##\n",
      "###\n"
     ]
    }
   ],
   "source": [
    "# Staircase - Input is a single integer n, output is a staircase of size n using # and spaces\n",
    "n = int(input())\n",
    "m = 1\n",
    "while n > 0:\n",
    "    for i in range(0, n):\n",
    "        print (' ' * (n - 1) + '#' * m)\n",
    "        n += -1\n",
    "        m += 1"
   ]
  },
  {
   "cell_type": "code",
   "execution_count": 48,
   "metadata": {},
   "outputs": [
    {
     "name": "stdout",
     "output_type": "stream",
     "text": [
      "1 2 3 4 5\n",
      "10 14\n"
     ]
    }
   ],
   "source": [
    "# Mini-Max Sum - Given 5 integers, find the minimum and maximum possible sums\n",
    "a = list(map(int, input().split()))\n",
    "sum = sum(a)\n",
    "print(sum - (max(a)), sum - (min(a)))"
   ]
  },
  {
   "cell_type": "code",
   "execution_count": 54,
   "metadata": {},
   "outputs": [
    {
     "name": "stdout",
     "output_type": "stream",
     "text": [
      "4\n",
      "1 3 2 3\n",
      "2\n"
     ]
    }
   ],
   "source": [
    "# Birthday Cake Candles - Two inputs: first w/ integer n, second w/ n integers\n",
    "# Find the max of second line and how many times it occurred\n",
    "a = int(input())\n",
    "b = list(map(int, input().split()))\n",
    "c = max(b)\n",
    "print (b.count(c))"
   ]
  },
  {
   "cell_type": "code",
   "execution_count": 113,
   "metadata": {},
   "outputs": [
    {
     "name": "stdout",
     "output_type": "stream",
     "text": [
      "12:45:54PM\n",
      "00:45:54\n"
     ]
    }
   ],
   "source": [
    "# Time-Conversion, given a time in 12-hour format, convert to military(24 hr) time\n",
    "time = input()\n",
    "hour = int(time.split(\":\")[0])\n",
    "minutes = time.split(\":\")[1]\n",
    "seconds = time.split(\":\")[2][:-2]\n",
    "if time.find('PM') != -1 and (hour != 12):\n",
    "    hour +=12\n",
    "if time.find('AM') and (hour == 12):\n",
    "    hour -=12\n",
    "if (hour >= 24):\n",
    "    hour -= 24\n",
    "if len(str(hour)) == 1:\n",
    "    hours = '0' + str(hour)\n",
    "if len(str(hour)) == 2:\n",
    "    hours = str(hour)\n",
    "print(hours + \":\" + minutes + \":\" + seconds)"
   ]
  },
  {
   "cell_type": "code",
   "execution_count": null,
   "metadata": {},
   "outputs": [],
   "source": []
  },
  {
   "cell_type": "code",
   "execution_count": null,
   "metadata": {},
   "outputs": [],
   "source": []
  }
 ],
 "metadata": {
  "kernelspec": {
   "display_name": "Python 3",
   "language": "python",
   "name": "python3"
  },
  "language_info": {
   "codemirror_mode": {
    "name": "ipython",
    "version": 3
   },
   "file_extension": ".py",
   "mimetype": "text/x-python",
   "name": "python",
   "nbconvert_exporter": "python",
   "pygments_lexer": "ipython3",
   "version": "3.6.5"
  }
 },
 "nbformat": 4,
 "nbformat_minor": 2
}
